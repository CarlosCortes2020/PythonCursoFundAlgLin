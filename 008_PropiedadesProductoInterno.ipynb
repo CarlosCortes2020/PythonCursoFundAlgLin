{
 "cells": [
  {
   "cell_type": "code",
   "execution_count": 1,
   "id": "22148848",
   "metadata": {},
   "outputs": [],
   "source": [
    "import numpy as np"
   ]
  },
  {
   "cell_type": "code",
   "execution_count": 3,
   "id": "036bf478",
   "metadata": {},
   "outputs": [],
   "source": [
    "A = np.array([[1, 2], \n",
    "              [4, 5], \n",
    "              [7, 8],\n",
    "              ])\n",
    "B = np.array([[1, 2], \n",
    "              [3, 4], \n",
    "              ])\n",
    "C = np.array([[4, 5], \n",
    "              [7, 8],\n",
    "              ])\n"
   ]
  },
  {
   "cell_type": "code",
   "execution_count": 4,
   "id": "1d1a977a",
   "metadata": {},
   "outputs": [
    {
     "name": "stdout",
     "output_type": "stream",
     "text": [
      "Producto interno asociativo (A.B).C:\n",
      "[[ 98 115]\n",
      " [272 319]\n",
      " [446 523]]\n"
     ]
    }
   ],
   "source": [
    "# Asociativa C1 = A.dot(B).dot(C)\n",
    "C1 = (A.dot(B)).dot(C)\n",
    "print(\"Producto interno asociativo (A.B).C:\")\n",
    "print(C1) "
   ]
  },
  {
   "cell_type": "code",
   "execution_count": 5,
   "id": "dba9ff96",
   "metadata": {},
   "outputs": [
    {
     "name": "stdout",
     "output_type": "stream",
     "text": [
      "Producto interno asociativo A.(B.C):\n",
      "[[ 98 115]\n",
      " [272 319]\n",
      " [446 523]]\n"
     ]
    }
   ],
   "source": [
    "# Asociativa C2 = A.dot(B.dot(C))\n",
    "C2 = A.dot(B.dot(C))\n",
    "print(\"Producto interno asociativo A.(B.C):\")\n",
    "print(C2)"
   ]
  },
  {
   "cell_type": "code",
   "execution_count": 6,
   "id": "0754402f",
   "metadata": {},
   "outputs": [
    {
     "name": "stdout",
     "output_type": "stream",
     "text": [
      "Producto interno distributivo A.B + A.C:\n",
      "[[ 25  31]\n",
      " [ 70  88]\n",
      " [115 145]]\n"
     ]
    }
   ],
   "source": [
    "# Distributiva Producto interno distributivo A.B + A.C\n",
    "D = A.dot(B) + A.dot(C)\n",
    "print(\"Producto interno distributivo A.B + A.C:\")\n",
    "print(D)"
   ]
  },
  {
   "cell_type": "code",
   "execution_count": 7,
   "id": "98707b07",
   "metadata": {},
   "outputs": [
    {
     "name": "stdout",
     "output_type": "stream",
     "text": [
      "Producto interno distributivo A.(B+C):\n",
      "[[ 25  31]\n",
      " [ 70  88]\n",
      " [115 145]]\n"
     ]
    }
   ],
   "source": [
    "# Distributiva alternativa Producto interno distributivo A.(B+C)\n",
    "E = A.dot(B + C)\n",
    "print(\"Producto interno distributivo A.(B+C):\")\n",
    "print(E)"
   ]
  },
  {
   "cell_type": "code",
   "execution_count": 8,
   "id": "a243cfb0",
   "metadata": {},
   "outputs": [],
   "source": [
    "# Commutativa Transpuesta del producto interno (A.B).T = B.T.A.T\n",
    "F1 = (A.dot(B)).T   "
   ]
  }
 ],
 "metadata": {
  "kernelspec": {
   "display_name": "CursoFundAlgLin",
   "language": "python",
   "name": "python3"
  },
  "language_info": {
   "codemirror_mode": {
    "name": "ipython",
    "version": 3
   },
   "file_extension": ".py",
   "mimetype": "text/x-python",
   "name": "python",
   "nbconvert_exporter": "python",
   "pygments_lexer": "ipython3",
   "version": "3.13.5"
  }
 },
 "nbformat": 4,
 "nbformat_minor": 5
}
