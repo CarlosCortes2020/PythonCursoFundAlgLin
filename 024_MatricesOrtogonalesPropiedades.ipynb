{
 "cells": [
  {
   "cell_type": "code",
   "execution_count": 2,
   "id": "0f59d541",
   "metadata": {},
   "outputs": [],
   "source": [
    "import numpy as np"
   ]
  },
  {
   "cell_type": "code",
   "execution_count": 4,
   "id": "ab24bad1",
   "metadata": {},
   "outputs": [
    {
     "name": "stdout",
     "output_type": "stream",
     "text": [
      "[[1 0 0]\n",
      " [0 1 0]\n",
      " [0 0 1]]\n"
     ]
    }
   ],
   "source": [
    "matriz = np.array([[1,0,0],\n",
    "                   [0,1,0],\n",
    "                   [0,0,1]\n",
    "                   ])\n",
    "\n",
    "print(matriz)"
   ]
  },
  {
   "cell_type": "code",
   "execution_count": 5,
   "id": "310b5dd6",
   "metadata": {},
   "outputs": [
    {
     "name": "stdout",
     "output_type": "stream",
     "text": [
      "0\n"
     ]
    }
   ],
   "source": [
    "print(matriz[:,0].dot(matriz[:,1]))"
   ]
  },
  {
   "cell_type": "code",
   "execution_count": 6,
   "id": "96358979",
   "metadata": {},
   "outputs": [
    {
     "name": "stdout",
     "output_type": "stream",
     "text": [
      "0\n"
     ]
    }
   ],
   "source": [
    "print(matriz[:,0].dot(matriz[:,2]))"
   ]
  },
  {
   "cell_type": "code",
   "execution_count": 7,
   "id": "3f24e8f6",
   "metadata": {},
   "outputs": [
    {
     "name": "stdout",
     "output_type": "stream",
     "text": [
      "0\n"
     ]
    }
   ],
   "source": [
    "print(matriz[:,1].dot(matriz[:,2]))"
   ]
  },
  {
   "cell_type": "code",
   "execution_count": 8,
   "id": "da360321",
   "metadata": {},
   "outputs": [
    {
     "name": "stdout",
     "output_type": "stream",
     "text": [
      "1.0\n",
      "1.0\n",
      "1.0\n"
     ]
    }
   ],
   "source": [
    "print(np.linalg.norm(matriz[:,0]))\n",
    "print(np.linalg.norm(matriz[:,1]))\n",
    "print(np.linalg.norm(matriz[:,2]))"
   ]
  },
  {
   "cell_type": "code",
   "execution_count": 10,
   "id": "b7b99b98",
   "metadata": {},
   "outputs": [
    {
     "name": "stdout",
     "output_type": "stream",
     "text": [
      "0\n",
      "0\n",
      "0\n"
     ]
    }
   ],
   "source": [
    "print(matriz[0,:].dot(matriz[1,:]))\n",
    "print(matriz[0,:].dot(matriz[2,:]))\n",
    "print(matriz[1,:].dot(matriz[2,:]))"
   ]
  },
  {
   "cell_type": "code",
   "execution_count": 11,
   "id": "faceb217",
   "metadata": {},
   "outputs": [
    {
     "name": "stdout",
     "output_type": "stream",
     "text": [
      "1.0\n",
      "1.0\n",
      "1.0\n"
     ]
    }
   ],
   "source": [
    "print(np.linalg.norm(matriz[0,:]))\n",
    "print(np.linalg.norm(matriz[1,:]))\n",
    "print(np.linalg.norm(matriz[2,:]))"
   ]
  },
  {
   "cell_type": "code",
   "execution_count": 16,
   "id": "6361da10",
   "metadata": {},
   "outputs": [
    {
     "name": "stdout",
     "output_type": "stream",
     "text": [
      "[[ 0.86231887  0.50636564]\n",
      " [-0.50636564  0.86231887]]\n"
     ]
    }
   ],
   "source": [
    "A = np.array([[np.cos(100), -np.sin(100)],\n",
    "              [np.sin(100), np.cos(100)]])\n",
    "\n",
    "print(A)"
   ]
  },
  {
   "cell_type": "code",
   "execution_count": 17,
   "id": "e37269ab",
   "metadata": {},
   "outputs": [
    {
     "name": "stdout",
     "output_type": "stream",
     "text": [
      "0.9999999999999999\n",
      "0.9999999999999999\n",
      "0.9999999999999999\n",
      "0.9999999999999999\n"
     ]
    }
   ],
   "source": [
    "print(np.linalg.norm(A[0,:]))\n",
    "print(np.linalg.norm(A[1,:]))\n",
    "print(np.linalg.norm(A[:,0]))\n",
    "print(np.linalg.norm(A[:,1]))"
   ]
  },
  {
   "cell_type": "code",
   "execution_count": 19,
   "id": "2299ad6e",
   "metadata": {},
   "outputs": [
    {
     "name": "stdout",
     "output_type": "stream",
     "text": [
      "0.0\n",
      "0.0\n"
     ]
    }
   ],
   "source": [
    "print(A[0,:].dot(A[1,:]))\n",
    "print(A[:,0].dot(A[:,1]))"
   ]
  },
  {
   "cell_type": "code",
   "execution_count": 20,
   "id": "eabf77ef",
   "metadata": {},
   "outputs": [
    {
     "name": "stdout",
     "output_type": "stream",
     "text": [
      "[[ 1.00000000e+00 -7.93771519e-18]\n",
      " [-7.93771519e-18  1.00000000e+00]]\n",
      "[[1.00000000e+00 7.93771519e-18]\n",
      " [7.93771519e-18 1.00000000e+00]]\n"
     ]
    }
   ],
   "source": [
    "A_T = A.T\n",
    "print(A_T.dot(A))\n",
    "print(A.dot(A_T))"
   ]
  },
  {
   "cell_type": "code",
   "execution_count": 21,
   "id": "fedd8377",
   "metadata": {},
   "outputs": [
    {
     "name": "stdout",
     "output_type": "stream",
     "text": [
      "[[ 0.86231887 -0.50636564]\n",
      " [ 0.50636564  0.86231887]]\n"
     ]
    }
   ],
   "source": [
    "A_inv = np.linalg.inv(A)\n",
    "print(A_inv)"
   ]
  },
  {
   "cell_type": "code",
   "execution_count": 22,
   "id": "15202d37",
   "metadata": {},
   "outputs": [
    {
     "name": "stdout",
     "output_type": "stream",
     "text": [
      "[[ 0.86231887 -0.50636564]\n",
      " [ 0.50636564  0.86231887]]\n"
     ]
    }
   ],
   "source": [
    "print(A_T)"
   ]
  },
  {
   "cell_type": "code",
   "execution_count": 25,
   "id": "6b1334f4",
   "metadata": {},
   "outputs": [
    {
     "name": "stdout",
     "output_type": "stream",
     "text": [
      "[[ 1.00000000e+00 -1.25980837e+17]\n",
      " [-1.25980837e+17  1.00000000e+00]]\n"
     ]
    }
   ],
   "source": [
    "print(1/A_T.dot(A))"
   ]
  }
 ],
 "metadata": {
  "kernelspec": {
   "display_name": "CursoFundAlgLin",
   "language": "python",
   "name": "python3"
  },
  "language_info": {
   "codemirror_mode": {
    "name": "ipython",
    "version": 3
   },
   "file_extension": ".py",
   "mimetype": "text/x-python",
   "name": "python",
   "nbconvert_exporter": "python",
   "pygments_lexer": "ipython3",
   "version": "3.13.5"
  }
 },
 "nbformat": 4,
 "nbformat_minor": 5
}
