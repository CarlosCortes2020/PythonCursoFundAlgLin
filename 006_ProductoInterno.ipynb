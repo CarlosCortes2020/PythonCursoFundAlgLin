{
 "cells": [
  {
   "cell_type": "code",
   "execution_count": 11,
   "id": "0dcf7aee",
   "metadata": {},
   "outputs": [],
   "source": [
    "import numpy as np"
   ]
  },
  {
   "cell_type": "code",
   "execution_count": 7,
   "id": "d2bbe701",
   "metadata": {},
   "outputs": [],
   "source": [
    "escalar = 5.679\n",
    "vector = np.array([1, 2])\n",
    "matriz = np.array([[1, 2], [3, 4], [5, 6]])\n",
    "tensor = np.array([\n",
    "    [[1,2,3,5], \n",
    "     [4,5,6,7], \n",
    "     [7,8,9,12]], \n",
    "    [[6,7,8,9], \n",
    "     [0,0,0,3], \n",
    "     [9,10,11,13]],\n",
    "    [[10,11,12,15], [13,14,15,18], [17,18,19,20]],\n",
    "])"
   ]
  },
  {
   "cell_type": "code",
   "execution_count": 12,
   "id": "ca5c26b1",
   "metadata": {},
   "outputs": [
    {
     "name": "stdout",
     "output_type": "stream",
     "text": [
      "Producto de la matriz con el vector:\n",
      "[[ 1  4]\n",
      " [ 3  8]\n",
      " [ 5 12]]\n"
     ]
    }
   ],
   "source": [
    "A = matriz * vector\n",
    "print(\"Producto de la matriz con el vector:\")\n",
    "print(A)"
   ]
  },
  {
   "cell_type": "code",
   "execution_count": 13,
   "id": "3aa49023",
   "metadata": {},
   "outputs": [
    {
     "name": "stdout",
     "output_type": "stream",
     "text": [
      "\n",
      "Producto interno de la matriz con el vector:\n",
      "[ 5 11 17]\n"
     ]
    }
   ],
   "source": [
    "B = matriz.dot(vector) \n",
    "print(\"\\nProducto interno de la matriz con el vector:\")\n",
    "print(B)"
   ]
  },
  {
   "cell_type": "code",
   "execution_count": 14,
   "id": "91636611",
   "metadata": {},
   "outputs": [
    {
     "name": "stdout",
     "output_type": "stream",
     "text": [
      "\n",
      "Producto interno de la matriz con el vector usando np.dot:\n",
      "[ 5 11 17]\n"
     ]
    }
   ],
   "source": [
    "C = np.dot(matriz, vector)\n",
    "print(\"\\nProducto interno de la matriz con el vector usando np.dot:\")\n",
    "print(C)"
   ]
  },
  {
   "cell_type": "code",
   "execution_count": null,
   "id": "8aa9a971",
   "metadata": {},
   "outputs": [],
   "source": []
  }
 ],
 "metadata": {
  "kernelspec": {
   "display_name": "CursoFundAlgLin",
   "language": "python",
   "name": "python3"
  },
  "language_info": {
   "codemirror_mode": {
    "name": "ipython",
    "version": 3
   },
   "file_extension": ".py",
   "mimetype": "text/x-python",
   "name": "python",
   "nbconvert_exporter": "python",
   "pygments_lexer": "ipython3",
   "version": "3.13.5"
  }
 },
 "nbformat": 4,
 "nbformat_minor": 5
}
