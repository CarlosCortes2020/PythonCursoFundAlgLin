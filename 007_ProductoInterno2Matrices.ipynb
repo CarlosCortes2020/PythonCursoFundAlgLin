{
 "cells": [
  {
   "cell_type": "code",
   "execution_count": 1,
   "id": "35c84c0e",
   "metadata": {},
   "outputs": [],
   "source": [
    "import numpy as np"
   ]
  },
  {
   "cell_type": "code",
   "execution_count": 5,
   "id": "9fd975b2",
   "metadata": {},
   "outputs": [],
   "source": [
    "A = np.array([[1, 2, 3], \n",
    "              [4, 5, 6], \n",
    "              [7, 8, 9],\n",
    "              [10, 11, 12]\n",
    "              ])\n",
    "B = np.array([[1, 2], \n",
    "              [3, 4], \n",
    "              [5, 6]])\n"
   ]
  },
  {
   "cell_type": "code",
   "execution_count": 6,
   "id": "61f94352",
   "metadata": {},
   "outputs": [
    {
     "name": "stdout",
     "output_type": "stream",
     "text": [
      "(4, 3)\n",
      "(3, 2)\n"
     ]
    }
   ],
   "source": [
    "print(A.shape)\n",
    "print(B.shape)"
   ]
  },
  {
   "cell_type": "code",
   "execution_count": 7,
   "id": "86448bf5",
   "metadata": {},
   "outputs": [
    {
     "name": "stdout",
     "output_type": "stream",
     "text": [
      "Producto interno de las matrices A y B:\n",
      "[[ 22  28]\n",
      " [ 49  64]\n",
      " [ 76 100]\n",
      " [103 136]]\n"
     ]
    }
   ],
   "source": [
    "C = A.dot(B)\n",
    "print(\"Producto interno de las matrices A y B:\")\n",
    "print(C)"
   ]
  }
 ],
 "metadata": {
  "kernelspec": {
   "display_name": "CursoFundAlgLin",
   "language": "python",
   "name": "python3"
  },
  "language_info": {
   "codemirror_mode": {
    "name": "ipython",
    "version": 3
   },
   "file_extension": ".py",
   "mimetype": "text/x-python",
   "name": "python",
   "nbconvert_exporter": "python",
   "pygments_lexer": "ipython3",
   "version": "3.13.5"
  }
 },
 "nbformat": 4,
 "nbformat_minor": 5
}
