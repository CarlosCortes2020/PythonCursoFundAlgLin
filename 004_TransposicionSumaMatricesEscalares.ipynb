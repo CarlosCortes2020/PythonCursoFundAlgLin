{
 "cells": [
  {
   "cell_type": "code",
   "execution_count": 1,
   "id": "30f50d4c",
   "metadata": {},
   "outputs": [],
   "source": [
    "import numpy as np"
   ]
  },
  {
   "cell_type": "code",
   "execution_count": null,
   "id": "cefbbdfd",
   "metadata": {},
   "outputs": [],
   "source": [
    "escalar = 5.679\n",
    "vector = np.array([1, 2, 3])\n",
    "matriz = np.array([[1, 2], [3, 4], [5, 6]])\n",
    "tensor = np.array([\n",
    "    [[1,2,3,5], \n",
    "     [4,5,6,7], \n",
    "     [7,8,9,12]], \n",
    "    [[6,7,8,9], \n",
    "     [0,0,0,3], \n",
    "     [9,10,11,13]],\n",
    "    [[10,11,12,15], [13,14,15,18], [17,18,19,20]],\n",
    "])\n"
   ]
  },
  {
   "cell_type": "code",
   "execution_count": 8,
   "id": "a4082c11",
   "metadata": {},
   "outputs": [
    {
     "name": "stdout",
     "output_type": "stream",
     "text": [
      "Transpuesta del vector:\n",
      "[1 2 3]\n"
     ]
    }
   ],
   "source": [
    "vector_t= vector.T\n",
    "print(\"Transpuesta del vector:\")\n",
    "print(vector_t)"
   ]
  },
  {
   "cell_type": "code",
   "execution_count": 9,
   "id": "163b2fea",
   "metadata": {},
   "outputs": [
    {
     "name": "stdout",
     "output_type": "stream",
     "text": [
      "\n",
      "Transpuesta de la matriz:\n",
      "[[1 3 5]\n",
      " [2 4 6]]\n"
     ]
    }
   ],
   "source": [
    "matriz_t = matriz.T\n",
    "print(\"\\nTranspuesta de la matriz:\")\n",
    "print(matriz_t)"
   ]
  },
  {
   "cell_type": "code",
   "execution_count": 10,
   "id": "1560400d",
   "metadata": {},
   "outputs": [
    {
     "name": "stdout",
     "output_type": "stream",
     "text": [
      "\n",
      "Transpuesta del tensor:\n",
      "[[[ 1  6 10]\n",
      "  [ 4  0 13]\n",
      "  [ 7  9 17]]\n",
      "\n",
      " [[ 2  7 11]\n",
      "  [ 5  0 14]\n",
      "  [ 8 10 18]]\n",
      "\n",
      " [[ 3  8 12]\n",
      "  [ 6  0 15]\n",
      "  [ 9 11 19]]\n",
      "\n",
      " [[ 5  9 15]\n",
      "  [ 7  3 18]\n",
      "  [12 13 20]]]\n"
     ]
    }
   ],
   "source": [
    "tensor_t = tensor.T\n",
    "print(\"\\nTranspuesta del tensor:\")\n",
    "print(tensor_t)"
   ]
  },
  {
   "cell_type": "code",
   "execution_count": 12,
   "id": "88be79cb",
   "metadata": {},
   "outputs": [
    {
     "name": "stdout",
     "output_type": "stream",
     "text": [
      "\n",
      "Suma de matrices A y B:\n",
      "[[ 8 10]\n",
      " [12 14]\n",
      " [16 18]]\n"
     ]
    }
   ],
   "source": [
    "A = np.array([[1, 2], \n",
    "              [3, 4], \n",
    "              [5, 6]])\n",
    "B = np.array([[7, 8], \n",
    "              [9, 10], \n",
    "              [11, 12]])\n",
    "C = A + B\n",
    "print(\"\\nSuma de matrices A y B:\")\n",
    "print(C)\n",
    "\n",
    "              "
   ]
  },
  {
   "cell_type": "code",
   "execution_count": 13,
   "id": "1266842b",
   "metadata": {},
   "outputs": [
    {
     "name": "stdout",
     "output_type": "stream",
     "text": [
      "\n",
      "Suma de la matriz con el escalar:\n",
      "[[ 6.679  7.679]\n",
      " [ 8.679  9.679]\n",
      " [10.679 11.679]]\n"
     ]
    }
   ],
   "source": [
    "D = matriz + escalar\n",
    "print(\"\\nSuma de la matriz con el escalar:\")\n",
    "print(D)"
   ]
  }
 ],
 "metadata": {
  "kernelspec": {
   "display_name": "CursoFundAlgLin",
   "language": "python",
   "name": "python3"
  },
  "language_info": {
   "codemirror_mode": {
    "name": "ipython",
    "version": 3
   },
   "file_extension": ".py",
   "mimetype": "text/x-python",
   "name": "python",
   "nbconvert_exporter": "python",
   "pygments_lexer": "ipython3",
   "version": "3.13.5"
  }
 },
 "nbformat": 4,
 "nbformat_minor": 5
}
