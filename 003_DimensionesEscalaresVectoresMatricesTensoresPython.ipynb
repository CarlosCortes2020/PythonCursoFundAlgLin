{
 "cells": [
  {
   "cell_type": "code",
   "execution_count": 1,
   "id": "ce826acd",
   "metadata": {},
   "outputs": [],
   "source": [
    "import numpy as np"
   ]
  },
  {
   "cell_type": "code",
   "execution_count": 7,
   "id": "8d01d4ab",
   "metadata": {},
   "outputs": [],
   "source": [
    "escalar = 5.679\n",
    "vector = np.array([1, 2, 3])\n",
    "matriz = np.array([[1, 2], [3, 4]])\n",
    "tensor = np.array([\n",
    "    [[1,2,3], [4,5,6], [7,8,9]], \n",
    "    [[6,7,8], [0,0,0], [9,10,11]],\n",
    "    [[10,11,12], [13,14,15], [17,18,19]],\n",
    "])\n"
   ]
  },
  {
   "cell_type": "code",
   "execution_count": 8,
   "id": "7fb989df",
   "metadata": {},
   "outputs": [
    {
     "name": "stdout",
     "output_type": "stream",
     "text": [
      "Escalar: 5.679\n"
     ]
    }
   ],
   "source": [
    "print(\"Escalar:\", escalar)"
   ]
  },
  {
   "cell_type": "code",
   "execution_count": 10,
   "id": "22e1db8d",
   "metadata": {},
   "outputs": [
    {
     "data": {
      "text/plain": [
       "(3,)"
      ]
     },
     "execution_count": 10,
     "metadata": {},
     "output_type": "execute_result"
    }
   ],
   "source": [
    "vector.shape"
   ]
  },
  {
   "cell_type": "code",
   "execution_count": 11,
   "id": "407f32af",
   "metadata": {},
   "outputs": [
    {
     "name": "stdout",
     "output_type": "stream",
     "text": [
      "Vector [1 2 3]\n"
     ]
    }
   ],
   "source": [
    "print(\"Vector\", vector)"
   ]
  },
  {
   "cell_type": "code",
   "execution_count": 12,
   "id": "6be269e8",
   "metadata": {},
   "outputs": [
    {
     "data": {
      "text/plain": [
       "3"
      ]
     },
     "execution_count": 12,
     "metadata": {},
     "output_type": "execute_result"
    }
   ],
   "source": [
    "len(vector)"
   ]
  },
  {
   "cell_type": "code",
   "execution_count": 13,
   "id": "d6938602",
   "metadata": {},
   "outputs": [
    {
     "data": {
      "text/plain": [
       "(2, 2)"
      ]
     },
     "execution_count": 13,
     "metadata": {},
     "output_type": "execute_result"
    }
   ],
   "source": [
    "matriz.shape\n"
   ]
  },
  {
   "cell_type": "code",
   "execution_count": 14,
   "id": "c8d2f260",
   "metadata": {},
   "outputs": [
    {
     "name": "stdout",
     "output_type": "stream",
     "text": [
      "Matriz [[1 2]\n",
      " [3 4]]\n"
     ]
    }
   ],
   "source": [
    "print(\"Matriz\", matriz)"
   ]
  },
  {
   "cell_type": "code",
   "execution_count": 15,
   "id": "917c0739",
   "metadata": {},
   "outputs": [
    {
     "data": {
      "text/plain": [
       "2"
      ]
     },
     "execution_count": 15,
     "metadata": {},
     "output_type": "execute_result"
    }
   ],
   "source": [
    "len(matriz)"
   ]
  },
  {
   "cell_type": "code",
   "execution_count": 16,
   "id": "145d0bae",
   "metadata": {},
   "outputs": [
    {
     "name": "stdout",
     "output_type": "stream",
     "text": [
      "4\n"
     ]
    }
   ],
   "source": [
    "print(matriz.size)"
   ]
  },
  {
   "cell_type": "code",
   "execution_count": 19,
   "id": "1c55fe3a",
   "metadata": {},
   "outputs": [
    {
     "name": "stdout",
     "output_type": "stream",
     "text": [
      "Tensor [[[ 1  2  3]\n",
      "  [ 4  5  6]\n",
      "  [ 7  8  9]]\n",
      "\n",
      " [[ 6  7  8]\n",
      "  [ 0  0  0]\n",
      "  [ 9 10 11]]\n",
      "\n",
      " [[10 11 12]\n",
      "  [13 14 15]\n",
      "  [17 18 19]]]\n"
     ]
    }
   ],
   "source": [
    "print(\"Tensor\", tensor)"
   ]
  },
  {
   "cell_type": "code",
   "execution_count": 20,
   "id": "03d52188",
   "metadata": {},
   "outputs": [
    {
     "name": "stdout",
     "output_type": "stream",
     "text": [
      "Tensor (3, 3, 3)\n"
     ]
    }
   ],
   "source": [
    "print(\"Tensor\", tensor.shape)"
   ]
  },
  {
   "cell_type": "code",
   "execution_count": 21,
   "id": "488b01a7",
   "metadata": {},
   "outputs": [
    {
     "name": "stdout",
     "output_type": "stream",
     "text": [
      "Tensor 27\n"
     ]
    }
   ],
   "source": [
    "print(\"Tensor\", tensor.size)"
   ]
  }
 ],
 "metadata": {
  "kernelspec": {
   "display_name": "CursoFundAlgLin",
   "language": "python",
   "name": "python3"
  },
  "language_info": {
   "codemirror_mode": {
    "name": "ipython",
    "version": 3
   },
   "file_extension": ".py",
   "mimetype": "text/x-python",
   "name": "python",
   "nbconvert_exporter": "python",
   "pygments_lexer": "ipython3",
   "version": "3.13.5"
  }
 },
 "nbformat": 4,
 "nbformat_minor": 5
}
