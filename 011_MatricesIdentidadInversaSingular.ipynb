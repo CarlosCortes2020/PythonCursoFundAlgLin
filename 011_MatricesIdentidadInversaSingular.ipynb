{
 "cells": [
  {
   "cell_type": "code",
   "execution_count": 1,
   "id": "2dad400f",
   "metadata": {},
   "outputs": [],
   "source": [
    "#Vamos a visualizar las caracteristicas de las matrices Identidad, Inversa y Singular, asi como sus propiedades.\n",
    "import numpy as np\n"
   ]
  },
  {
   "cell_type": "code",
   "execution_count": 3,
   "id": "20d1014d",
   "metadata": {},
   "outputs": [
    {
     "name": "stdout",
     "output_type": "stream",
     "text": [
      "[[1. 0. 0. 0.]\n",
      " [0. 1. 0. 0.]\n",
      " [0. 0. 1. 0.]\n",
      " [0. 0. 0. 1.]]\n"
     ]
    }
   ],
   "source": [
    "#Genera la matriz identidad de 4x4\n",
    "I = np.eye(4)\n",
    "print(I)"
   ]
  },
  {
   "cell_type": "code",
   "execution_count": 5,
   "id": "14e086a7",
   "metadata": {},
   "outputs": [
    {
     "name": "stdout",
     "output_type": "stream",
     "text": [
      "[[1]\n",
      " [2]\n",
      " [3]\n",
      " [4]]\n",
      "[[1.]\n",
      " [2.]\n",
      " [3.]\n",
      " [4.]]\n"
     ]
    }
   ],
   "source": [
    "#Genera un vecor b de 4x1\n",
    "b = np.array([[1], [2], [3], [4]])\n",
    "print(b)\n",
    "\n",
    "#Multiplica la matriz identidad por el vector b\n",
    "print(I @ b)"
   ]
  },
  {
   "cell_type": "code",
   "execution_count": 8,
   "id": "49a005ca",
   "metadata": {},
   "outputs": [
    {
     "name": "stdout",
     "output_type": "stream",
     "text": [
      "[[1 2 3]\n",
      " [0 1 4]\n",
      " [5 6 0]]\n",
      "[[-24.  18.   5.]\n",
      " [ 20. -15.  -4.]\n",
      " [ -5.   4.   1.]]\n"
     ]
    }
   ],
   "source": [
    "#Calcula la inversa de una matriz A de 3x3\n",
    "A = np.array([[1, 2, 3], [0, 1, 4], [5, 6, 0]])\n",
    "print(A)\n",
    "A_inv = np.linalg.inv(A)\n",
    "print(A_inv)"
   ]
  },
  {
   "cell_type": "code",
   "execution_count": 10,
   "id": "3c4d69bb",
   "metadata": {},
   "outputs": [
    {
     "name": "stdout",
     "output_type": "stream",
     "text": [
      "False\n"
     ]
    }
   ],
   "source": [
    "#Valida si la multiplicacion de A por su inversa es igual a la matriz identidad\n",
    "print(np.array_equal(A @ A_inv, np.eye(3)))"
   ]
  }
 ],
 "metadata": {
  "kernelspec": {
   "display_name": "CursoFundAlgLin",
   "language": "python",
   "name": "python3"
  },
  "language_info": {
   "codemirror_mode": {
    "name": "ipython",
    "version": 3
   },
   "file_extension": ".py",
   "mimetype": "text/x-python",
   "name": "python",
   "nbconvert_exporter": "python",
   "pygments_lexer": "ipython3",
   "version": "3.13.5"
  }
 },
 "nbformat": 4,
 "nbformat_minor": 5
}
