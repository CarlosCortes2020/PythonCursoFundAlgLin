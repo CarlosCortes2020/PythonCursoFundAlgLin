{
 "cells": [
  {
   "cell_type": "code",
   "execution_count": 2,
   "id": "2b5ad90a",
   "metadata": {},
   "outputs": [],
   "source": [
    "import numpy as np\n"
   ]
  },
  {
   "cell_type": "code",
   "execution_count": 3,
   "id": "b8f0f3f7",
   "metadata": {},
   "outputs": [
    {
     "name": "stdout",
     "output_type": "stream",
     "text": [
      "[[1 0 0 0 0]\n",
      " [0 2 0 0 0]\n",
      " [0 0 3 0 0]\n",
      " [0 0 0 4 0]\n",
      " [0 0 0 0 5]]\n"
     ]
    }
   ],
   "source": [
    "vector = np.array([1,2,3,4,5])\n",
    "matriz = np.diag(vector)\n",
    "print(matriz)"
   ]
  },
  {
   "cell_type": "code",
   "execution_count": 4,
   "id": "7349bb74",
   "metadata": {},
   "outputs": [
    {
     "name": "stdout",
     "output_type": "stream",
     "text": [
      "[[1 0 0]\n",
      " [0 2 0]\n",
      " [0 0 3]\n",
      " [0 0 0]]\n"
     ]
    }
   ],
   "source": [
    "print(matriz[0:4,0:3])"
   ]
  },
  {
   "cell_type": "code",
   "execution_count": 5,
   "id": "edbd9e32",
   "metadata": {},
   "outputs": [
    {
     "name": "stdout",
     "output_type": "stream",
     "text": [
      "[[1 0 0 0]\n",
      " [0 2 0 0]\n",
      " [0 0 3 0]]\n"
     ]
    }
   ],
   "source": [
    "print(matriz[0:3,0:4])"
   ]
  },
  {
   "cell_type": "code",
   "execution_count": 6,
   "id": "c5fcc218",
   "metadata": {},
   "outputs": [
    {
     "name": "stdout",
     "output_type": "stream",
     "text": [
      "[[2 0 0 0]\n",
      " [0 3 0 0]\n",
      " [0 0 4 0]\n",
      " [0 0 0 5]]\n"
     ]
    }
   ],
   "source": [
    "A = np.diag([2,3,4,5])\n",
    "print(A)"
   ]
  },
  {
   "cell_type": "code",
   "execution_count": 11,
   "id": "b9f5c8aa",
   "metadata": {},
   "outputs": [
    {
     "name": "stdout",
     "output_type": "stream",
     "text": [
      "[[1 1 1 1]]\n",
      "[[2]\n",
      " [3]\n",
      " [4]\n",
      " [5]]\n"
     ]
    }
   ],
   "source": [
    "v1 = np.array([[1,1,1,1]])\n",
    "print(v1)\n",
    "print(A.dot(v1.T))"
   ]
  },
  {
   "cell_type": "code",
   "execution_count": 12,
   "id": "9a7df090",
   "metadata": {},
   "outputs": [
    {
     "name": "stdout",
     "output_type": "stream",
     "text": [
      "[[0.5        0.         0.         0.        ]\n",
      " [0.         0.33333333 0.         0.        ]\n",
      " [0.         0.         0.25       0.        ]\n",
      " [0.         0.         0.         0.2       ]]\n"
     ]
    }
   ],
   "source": [
    "A_inv = np.diag([1/2,1/3,1/4,1/5])\n",
    "print(A_inv)"
   ]
  },
  {
   "cell_type": "code",
   "execution_count": 14,
   "id": "822fe398",
   "metadata": {},
   "outputs": [
    {
     "name": "stdout",
     "output_type": "stream",
     "text": [
      "[[1. 0. 0. 0.]\n",
      " [0. 1. 0. 0.]\n",
      " [0. 0. 1. 0.]\n",
      " [0. 0. 0. 1.]]\n"
     ]
    }
   ],
   "source": [
    "identidad = A @ A_inv\n",
    "print(identidad)"
   ]
  },
  {
   "cell_type": "code",
   "execution_count": 15,
   "id": "04345ffb",
   "metadata": {},
   "outputs": [
    {
     "name": "stdout",
     "output_type": "stream",
     "text": [
      "[[0.5        0.         0.         0.        ]\n",
      " [0.         0.33333333 0.         0.        ]\n",
      " [0.         0.         0.25       0.        ]\n",
      " [0.         0.         0.         0.2       ]]\n"
     ]
    }
   ],
   "source": [
    "A_inv_calc = np.linalg.inv(A)\n",
    "print(A_inv_calc)"
   ]
  },
  {
   "cell_type": "code",
   "execution_count": null,
   "id": "140da3a4",
   "metadata": {},
   "outputs": [
    {
     "ename": "AttributeError",
     "evalue": "'float' object has no attribute 'shape'",
     "output_type": "error",
     "traceback": [
      "\u001b[31m---------------------------------------------------------------------------\u001b[39m",
      "\u001b[31mAttributeError\u001b[39m                            Traceback (most recent call last)",
      "\u001b[36mCell\u001b[39m\u001b[36m \u001b[39m\u001b[32mIn[3]\u001b[39m\u001b[32m, line 2\u001b[39m\n\u001b[32m      1\u001b[39m escalar = \u001b[32m3.1\u001b[39m\n\u001b[32m----> \u001b[39m\u001b[32m2\u001b[39m \u001b[43mescalar\u001b[49m\u001b[43m.\u001b[49m\u001b[43mshape\u001b[49m\n\u001b[32m      3\u001b[39m \u001b[38;5;28mprint\u001b[39m(\u001b[38;5;28mtype\u001b[39m(escalar))\n\u001b[32m      4\u001b[39m \u001b[38;5;66;03m# Salida: <class 'float'>\u001b[39;00m\n",
      "\u001b[31mAttributeError\u001b[39m: 'float' object has no attribute 'shape'"
     ]
    }
   ],
   "source": [
    "escalar = 3.1\n",
    "\n",
    "print(type(escalar))\n",
    "# Salida: <class 'float'>"
   ]
  },
  {
   "cell_type": "code",
   "execution_count": 2,
   "id": "09ff032f",
   "metadata": {},
   "outputs": [
    {
     "name": "stdout",
     "output_type": "stream",
     "text": [
      "<class 'numpy.ndarray'>\n",
      "()\n"
     ]
    }
   ],
   "source": [
    "import numpy as np\n",
    "\n",
    "# Un escalar de NumPy (arreglo de 0 dimensiones)\n",
    "np_escalar = np.array(3.1)\n",
    "\n",
    "print(type(np_escalar))\n",
    "# Salida: <class 'numpy.ndarray'>\n",
    "\n",
    "print(np_escalar.shape)\n",
    "# Salida: ()  (una tupla vacía, indicando 0 dimensiones)\n"
   ]
  }
 ],
 "metadata": {
  "kernelspec": {
   "display_name": "CursoFundAlgLin",
   "language": "python",
   "name": "python3"
  },
  "language_info": {
   "codemirror_mode": {
    "name": "ipython",
    "version": 3
   },
   "file_extension": ".py",
   "mimetype": "text/x-python",
   "name": "python",
   "nbconvert_exporter": "python",
   "pygments_lexer": "ipython3",
   "version": "3.13.5"
  }
 },
 "nbformat": 4,
 "nbformat_minor": 5
}
