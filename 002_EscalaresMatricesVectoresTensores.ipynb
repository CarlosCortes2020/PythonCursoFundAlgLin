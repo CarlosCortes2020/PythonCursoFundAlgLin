{
 "cells": [
  {
   "cell_type": "code",
   "execution_count": 3,
   "id": "25717225",
   "metadata": {},
   "outputs": [],
   "source": [
    "import pandas as pd\n",
    "import numpy as np"
   ]
  },
  {
   "cell_type": "code",
   "execution_count": 4,
   "id": "5a6caa04",
   "metadata": {},
   "outputs": [
    {
     "name": "stdout",
     "output_type": "stream",
     "text": [
      "Escalar: 5\n",
      "Vector: [1, 2, 3]\n",
      "Matriz: [[1, 2], [3, 4]]\n",
      "Tensor: [[[1, 2], [3, 4]], [[5, 6], [7, 8]]]\n"
     ]
    }
   ],
   "source": [
    "# Un escalar es un solo número. Por ejemplo:\n",
    "scalar = 5\n",
    "\n",
    "# Un vector es un array de números. Por ejemplo:\n",
    "vector = [1, 2, 3]\n",
    "\n",
    "# Una matriz es un array bidimensional de números. Por ejemplo:\n",
    "matrix = [[1, 2], [3, 4]]\n",
    "\n",
    "# Un tensor es un array multidimensional de números. Un escalar es un tensor de rango 0, un vector es un tensor de rango 1, y una matriz es un tensor de rango 2. Por ejemplo:\n",
    "tensor = [[[1, 2], [3, 4]], [[5, 6], [7, 8]]]\n",
    "\n",
    "print(\"Escalar:\", scalar)\n",
    "print(\"Vector:\", vector)\n",
    "print(\"Matriz:\", matrix)\n",
    "print(\"Tensor:\", tensor)\n"
   ]
  },
  {
   "cell_type": "code",
   "execution_count": null,
   "id": "f8b7aa91",
   "metadata": {},
   "outputs": [],
   "source": []
  }
 ],
 "metadata": {
  "kernelspec": {
   "display_name": "CursoFundAlgLin",
   "language": "python",
   "name": "python3"
  },
  "language_info": {
   "codemirror_mode": {
    "name": "ipython",
    "version": 3
   },
   "file_extension": ".py",
   "mimetype": "text/x-python",
   "name": "python",
   "nbconvert_exporter": "python",
   "pygments_lexer": "ipython3",
   "version": "3.13.5"
  }
 },
 "nbformat": 4,
 "nbformat_minor": 5
}
