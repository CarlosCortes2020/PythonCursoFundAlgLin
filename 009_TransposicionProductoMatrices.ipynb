{
 "cells": [
  {
   "cell_type": "code",
   "execution_count": 1,
   "id": "d8ee9b67",
   "metadata": {},
   "outputs": [],
   "source": [
    "import numpy as np"
   ]
  },
  {
   "cell_type": "code",
   "execution_count": 2,
   "id": "85c254e1",
   "metadata": {},
   "outputs": [],
   "source": [
    "A = np.array([[1, 2], \n",
    "              [4, 5], \n",
    "              [7, 8],\n",
    "              ])\n",
    "B = np.array([[1, 2], \n",
    "              [3, 4], \n",
    "              ])\n",
    "C = np.array([[4, 5], \n",
    "              [7, 8],\n",
    "              ])"
   ]
  },
  {
   "cell_type": "code",
   "execution_count": 4,
   "id": "736aa72c",
   "metadata": {},
   "outputs": [
    {
     "name": "stdout",
     "output_type": "stream",
     "text": [
      "[[ 7 19 31]\n",
      " [10 28 46]]\n",
      "[[ 7 19 31]\n",
      " [10 28 46]]\n",
      "True\n"
     ]
    }
   ],
   "source": [
    "#Calcular la transpuesta del producto interno de A con B\n",
    "print((A @ B).T)\n",
    "\n",
    "#Calcular el producto interno de la transpuesta de B con la transpuesta de A\n",
    "print(B.T @ A.T)    \n",
    "\n",
    "#Validar si son iguales\n",
    "print(np.array_equal((A @ B).T, B.T @ A.T))"
   ]
  }
 ],
 "metadata": {
  "kernelspec": {
   "display_name": "CursoFundAlgLin",
   "language": "python",
   "name": "python3"
  },
  "language_info": {
   "codemirror_mode": {
    "name": "ipython",
    "version": 3
   },
   "file_extension": ".py",
   "mimetype": "text/x-python",
   "name": "python",
   "nbconvert_exporter": "python",
   "pygments_lexer": "ipython3",
   "version": "3.13.5"
  }
 },
 "nbformat": 4,
 "nbformat_minor": 5
}
