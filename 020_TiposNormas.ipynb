{
 "cells": [
  {
   "cell_type": "code",
   "execution_count": 1,
   "id": "fe460ba4",
   "metadata": {},
   "outputs": [],
   "source": [
    "import numpy as np\n"
   ]
  },
  {
   "cell_type": "code",
   "execution_count": 5,
   "id": "5e86e4a6",
   "metadata": {},
   "outputs": [
    {
     "name": "stdout",
     "output_type": "stream",
     "text": [
      "4.0\n",
      "5.0\n"
     ]
    }
   ],
   "source": [
    "vector = np.array([1,2,0,5,6,0])\n",
    "\n",
    "#Norma L0\n",
    "print(np.linalg.norm(vector, ord=0))\n",
    "\n",
    "#Norma L1\n",
    "vector = np.array([1,-1,1,-1,1])\n",
    "print(np.linalg.norm(vector, ord=1))"
   ]
  },
  {
   "cell_type": "code",
   "execution_count": 6,
   "id": "fd7ccf96",
   "metadata": {},
   "outputs": [
    {
     "name": "stdout",
     "output_type": "stream",
     "text": [
      "1.4142135623730951\n"
     ]
    }
   ],
   "source": [
    "#Norma L2\n",
    "vector = np.array([1,1])\n",
    "print(np.linalg.norm(vector, ord=2))"
   ]
  },
  {
   "cell_type": "code",
   "execution_count": 8,
   "id": "40dc4694",
   "metadata": {},
   "outputs": [
    {
     "name": "stdout",
     "output_type": "stream",
     "text": [
      "91.0\n",
      "91\n"
     ]
    }
   ],
   "source": [
    "#Norma L2^2\n",
    "vector = np.array([1,2,3,4,5,6])\n",
    "print(np.linalg.norm(vector, ord=2)**2)\n",
    "\n",
    "print(vector.T @ vector)"
   ]
  },
  {
   "cell_type": "code",
   "execution_count": 10,
   "id": "8745a4bb",
   "metadata": {},
   "outputs": [
    {
     "name": "stdout",
     "output_type": "stream",
     "text": [
      "100.0\n"
     ]
    }
   ],
   "source": [
    "#norma infinito\n",
    "vector = np.array([1,2,3,-100])\n",
    "print(np.linalg.norm(vector, ord=np.inf))"
   ]
  },
  {
   "cell_type": "code",
   "execution_count": 1,
   "id": "abd244ec",
   "metadata": {},
   "outputs": [
    {
     "name": "stdout",
     "output_type": "stream",
     "text": [
      "El vector es: [0.5 0.5 0.5 0.5]\n",
      "La norma 2 del vector es: 1.0\n"
     ]
    }
   ],
   "source": [
    "import numpy as np\n",
    "\n",
    "# Definir el vector\n",
    "v = np.array([1/2, 1/2, 1/2, 1/2])\n",
    "\n",
    "# Calcular la norma 2 (Euclidiana)\n",
    "norma_2 = np.linalg.norm(v, ord=2)\n",
    "\n",
    "print(f\"El vector es: {v}\")\n",
    "print(f\"La norma 2 del vector es: {norma_2}\")"
   ]
  }
 ],
 "metadata": {
  "kernelspec": {
   "display_name": "CursoFundAlgLin",
   "language": "python",
   "name": "python3"
  },
  "language_info": {
   "codemirror_mode": {
    "name": "ipython",
    "version": 3
   },
   "file_extension": ".py",
   "mimetype": "text/x-python",
   "name": "python",
   "nbconvert_exporter": "python",
   "pygments_lexer": "ipython3",
   "version": "3.13.5"
  }
 },
 "nbformat": 4,
 "nbformat_minor": 5
}
