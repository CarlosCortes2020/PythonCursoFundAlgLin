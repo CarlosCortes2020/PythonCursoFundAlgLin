{
 "cells": [
  {
   "cell_type": "code",
   "execution_count": 1,
   "id": "2983e15a",
   "metadata": {},
   "outputs": [],
   "source": [
    "#Vamos a resolver un sistema de ecuacioneslineales utilizando el metodo de la matriz inversa.\n",
    "#Vamos a comprobar la solucion graficamente.\n",
    "import numpy as np\n",
    "import matplotlib.pyplot as plt"
   ]
  },
  {
   "cell_type": "code",
   "execution_count": 2,
   "id": "267e1cef",
   "metadata": {},
   "outputs": [],
   "source": [
    "#En caso de encontrar un valor muy cercano a cero, se puede considerar como cero.\n",
    "np.set_printoptions(suppress=True)"
   ]
  },
  {
   "cell_type": "code",
   "execution_count": 3,
   "id": "8bb2f840",
   "metadata": {},
   "outputs": [
    {
     "name": "stdout",
     "output_type": "stream",
     "text": [
      "Matriz A:\n",
      "[[3 1]\n",
      " [2 1]]\n"
     ]
    }
   ],
   "source": [
    "A = np.array([[3, 1], [2, 1]])\n",
    "print(\"Matriz A:\")\n",
    "print(A)"
   ]
  },
  {
   "cell_type": "code",
   "execution_count": 4,
   "id": "c815cfc9",
   "metadata": {},
   "outputs": [
    {
     "name": "stdout",
     "output_type": "stream",
     "text": [
      "Vector b:\n",
      "[[1]\n",
      " [1]]\n"
     ]
    }
   ],
   "source": [
    "b = np.array([[1], [1]])\n",
    "print(\"Vector b:\")\n",
    "print(b)"
   ]
  },
  {
   "cell_type": "code",
   "execution_count": 5,
   "id": "d394acd4",
   "metadata": {},
   "outputs": [
    {
     "name": "stdout",
     "output_type": "stream",
     "text": [
      "Inversa de A:\n",
      "[[ 1. -1.]\n",
      " [-2.  3.]]\n"
     ]
    }
   ],
   "source": [
    "#Calcular la inversa de la matriz A\n",
    "A_inv = np.linalg.inv(A)\n",
    "print(\"Inversa de A:\")\n",
    "print(A_inv)"
   ]
  },
  {
   "cell_type": "code",
   "execution_count": 6,
   "id": "7d68b41e",
   "metadata": {},
   "outputs": [
    {
     "name": "stdout",
     "output_type": "stream",
     "text": [
      "Solucion x:\n",
      "[[0.]\n",
      " [1.]]\n"
     ]
    }
   ],
   "source": [
    "#Resolver el sistema de ecuaciones Ax = b utilizando la matriz inversa\n",
    "x = A_inv @ b\n",
    "print(\"Solucion x:\")\n",
    "print(x)"
   ]
  },
  {
   "cell_type": "code",
   "execution_count": null,
   "id": "957bd8cc",
   "metadata": {},
   "outputs": [],
   "source": []
  }
 ],
 "metadata": {
  "kernelspec": {
   "display_name": "CursoFundAlgLin",
   "language": "python",
   "name": "python3"
  },
  "language_info": {
   "codemirror_mode": {
    "name": "ipython",
    "version": 3
   },
   "file_extension": ".py",
   "mimetype": "text/x-python",
   "name": "python",
   "nbconvert_exporter": "python",
   "pygments_lexer": "ipython3",
   "version": "3.13.5"
  }
 },
 "nbformat": 4,
 "nbformat_minor": 5
}
