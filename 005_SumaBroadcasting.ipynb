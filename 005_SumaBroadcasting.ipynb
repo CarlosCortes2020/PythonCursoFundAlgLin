{
 "cells": [
  {
   "cell_type": "code",
   "execution_count": 1,
   "id": "04391914",
   "metadata": {},
   "outputs": [],
   "source": [
    "import numpy as np"
   ]
  },
  {
   "cell_type": "code",
   "execution_count": null,
   "id": "b25b1f24",
   "metadata": {},
   "outputs": [],
   "source": [
    "escalar = 5.679\n",
    "vector = np.array([1, 2, 3])\n",
    "matriz = np.array([[1, 2], \n",
    "                   [3, 4], \n",
    "                   [5, 6]])\n",
    "tensor = np.array([\n",
    "    [[1,2,3,5], \n",
    "     [4,5,6,7], \n",
    "     [7,8,9,12]], \n",
    "    [[6,7,8,9], \n",
    "     [0,0,0,3], \n",
    "     [9,10,11,13]],\n",
    "    [[10,11,12,15], [13,14,15,18], [17,18,19,20]],\n",
    "])"
   ]
  },
  {
   "cell_type": "code",
   "execution_count": 3,
   "id": "20b31483",
   "metadata": {},
   "outputs": [
    {
     "name": "stdout",
     "output_type": "stream",
     "text": [
      "Suma de la transpuesta de la matriz con el vector:\n",
      "[[2 5 8]\n",
      " [3 6 9]]\n"
     ]
    }
   ],
   "source": [
    "A = matriz.T + vector\n",
    "print(\"Suma de la transpuesta de la matriz con el vector:\")\n",
    "print(A)"
   ]
  }
 ],
 "metadata": {
  "kernelspec": {
   "display_name": "CursoFundAlgLin",
   "language": "python",
   "name": "python3"
  },
  "language_info": {
   "codemirror_mode": {
    "name": "ipython",
    "version": 3
   },
   "file_extension": ".py",
   "mimetype": "text/x-python",
   "name": "python",
   "nbconvert_exporter": "python",
   "pygments_lexer": "ipython3",
   "version": "3.13.5"
  }
 },
 "nbformat": 4,
 "nbformat_minor": 5
}
